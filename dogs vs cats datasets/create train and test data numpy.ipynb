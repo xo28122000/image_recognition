{
 "cells": [
  {
   "cell_type": "code",
   "execution_count": 5,
   "metadata": {},
   "outputs": [],
   "source": [
    "import numpy as np\n",
    "import os\n",
    "import cv2\n",
    "import glob"
   ]
  },
  {
   "cell_type": "code",
   "execution_count": 6,
   "metadata": {},
   "outputs": [],
   "source": [
    "def create_train_data():  \n",
    "    train_data = []\n",
    "    if os.path.isfile('train_data.npy'):\n",
    "        train_data = np.load('train_data.npy',allow_pickle = True)\n",
    "        return train_data\n",
    "    else:\n",
    "        \n",
    "        for filep in tqdm(glob.glob(DOG_TRAIN_DATA_PATH+\"/*.jpg\")):\n",
    "            img = cv2.imread(filep,cv2.IMREAD_GRAYSCALE)\n",
    "            img = cv2.resize(img, (IMG_SIZE, IMG_SIZE)) \n",
    "            train_data.append([np.array(img), np.array([0,1])]) \n",
    "        for filep in tqdm(glob.glob(CAT_TRAIN_DATA_PATH+\"/*.jpg\")):\n",
    "            img = cv2.imread(filep,cv2.IMREAD_GRAYSCALE)\n",
    "            img = cv2.resize(img, (IMG_SIZE, IMG_SIZE)) \n",
    "            train_data.append([np.array(img), np.array([1,0 ])]) \n",
    "        shuffle(train_data)\n",
    "        np.save(\"train_data.npy\",train_data)\n",
    "        return train_data"
   ]
  },
  {
   "cell_type": "code",
   "execution_count": 7,
   "metadata": {},
   "outputs": [],
   "source": [
    "def create_test_data(): \n",
    "    test_data = [] \n",
    "    if os.path.isfile('test_data.npy'):\n",
    "        test_data = np.load('test_data.npy',allow_pickle = True)\n",
    "        return test_data\n",
    "    else:\n",
    "        for filep in tqdm(glob.glob(TEST_DATA_PATH+\"/*.jpg\")): \n",
    "            img = cv2.imread(filep,cv2.IMREAD_GRAYSCALE)\n",
    "            test_data.append([np.array(img)]) \n",
    "        shuffle(test_data) \n",
    "        np.save('test_data.npy', test_data) \n",
    "        return test_data "
   ]
  },
  {
   "cell_type": "code",
   "execution_count": null,
   "metadata": {},
   "outputs": [],
   "source": []
  }
 ],
 "metadata": {
  "kernelspec": {
   "display_name": "Python 3",
   "language": "python",
   "name": "python3"
  },
  "language_info": {
   "codemirror_mode": {
    "name": "ipython",
    "version": 3
   },
   "file_extension": ".py",
   "mimetype": "text/x-python",
   "name": "python",
   "nbconvert_exporter": "python",
   "pygments_lexer": "ipython3",
   "version": "3.7.4"
  }
 },
 "nbformat": 4,
 "nbformat_minor": 2
}
