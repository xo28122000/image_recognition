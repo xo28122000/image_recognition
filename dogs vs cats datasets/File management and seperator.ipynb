{
 "cells": [
  {
   "cell_type": "code",
   "execution_count": 3,
   "metadata": {},
   "outputs": [],
   "source": [
    "from tqdm.notebook import tqdm"
   ]
  },
  {
   "cell_type": "code",
   "execution_count": 4,
   "metadata": {},
   "outputs": [],
   "source": [
    "def seperate_train_data(train_files):\n",
    "    for file in tqdm(train_files):\n",
    "        file_type = file.split(\".\")[1].split(\"/\")[-1]\n",
    "        filesplit = file.split(\"/\")\n",
    "        if(file_type == \"dog\"):\n",
    "            filesplit.insert(3,\"dog\")\n",
    "            newfilepath = (\"/\".join(filesplit))\n",
    "            shutil.move(file, newfilepath)\n",
    "        elif(file_type == \"cat\"):\n",
    "            filesplit.insert(3,\"cat\")\n",
    "            newfilepath = (\"/\".join(filesplit))\n",
    "            shutil.move(file, newfilepath)\n",
    "        \n",
    "\n",
    "\n",
    "# # Move a file by renaming it's path\n",
    "# os.rename('/Users/billy/d1/xfile.txt', '/Users/billy/d2/xfile.txt')\n",
    "\n",
    "# # Move a file from the directory d1 to d2\n",
    "# shutil.move('/Users/billy/d1/xfile.txt', '/Users/billy/d2/xfile.txt')"
   ]
  },
  {
   "cell_type": "code",
   "execution_count": null,
   "metadata": {},
   "outputs": [],
   "source": []
  }
 ],
 "metadata": {
  "kernelspec": {
   "display_name": "Python 3",
   "language": "python",
   "name": "python3"
  },
  "language_info": {
   "codemirror_mode": {
    "name": "ipython",
    "version": 3
   },
   "file_extension": ".py",
   "mimetype": "text/x-python",
   "name": "python",
   "nbconvert_exporter": "python",
   "pygments_lexer": "ipython3",
   "version": "3.7.4"
  }
 },
 "nbformat": 4,
 "nbformat_minor": 2
}
